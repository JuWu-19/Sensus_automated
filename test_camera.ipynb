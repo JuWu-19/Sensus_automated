{
 "cells": [
  {
   "cell_type": "code",
   "execution_count": null,
   "id": "ecb4c664",
   "metadata": {},
   "outputs": [],
   "source": [
    "from simple_pyspin import Camera\n",
    "\n",
    "with Camera() as cam: # Acquire and initialize Camera\n",
    "    cam.start() # Start recording\n",
    "    imgs = [cam.get_array() for n in range(10)] # Get 10 frames\n",
    "    cam.stop() # Stop recording\n",
    "\n",
    "print(imgs[0].shape, imgs[0].dtype) # Each image is a numpy array!"
   ]
  },
  {
   "cell_type": "code",
   "execution_count": null,
   "id": "f05ec3b2",
   "metadata": {},
   "outputs": [],
   "source": []
  },
  {
   "cell_type": "code",
   "execution_count": null,
   "id": "3733b935",
   "metadata": {},
   "outputs": [],
   "source": []
  }
 ],
 "metadata": {
  "kernelspec": {
   "display_name": "Python 3 (ipykernel)",
   "language": "python",
   "name": "python3"
  }
 },
 "nbformat": 4,
 "nbformat_minor": 5
}
